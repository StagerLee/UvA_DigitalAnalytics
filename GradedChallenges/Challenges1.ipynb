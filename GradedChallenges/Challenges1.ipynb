{
 "cells": [
  {
   "cell_type": "markdown",
   "id": "scenic-agent",
   "metadata": {},
   "source": [
    "# Graded Challenge 1 (DA1 and DA2)\n",
    "\n",
    "Now that we've seen how Python works and and how to use Pandas, it's time for you to combine and apply this knowledge to analyse Twitter data on your selected organisation or topic. \n",
    "\n",
    "The challenge consists of three components:\n",
    "1. **Programming**\n",
    "2. **Interpretation**\n",
    "3. **Reflection**\n",
    "\n",
    "**Some important notes for the challenges:**\n",
    "1. While we of course like when you get all the answers right, the important thing is to exercise and apply the knowledge. So we will give some credit for challenges that may not be complete, as long as we see enough effort. The rubric (see Canvas) reflects this.\n",
    "2. You will deliver the challenges on Canvas. Make sure to follow the turning-in instructions. \n",
    "\n",
    "### Usage of AI-generated content\n",
    "\n",
    "In line with the course policies, it is **not allowed** to use AI-generated content to any explanations or text provided in MarkDown. This means that for **Interpretation** and **Reflection** students are **not allowed** to use any AI-generated content or AI-assisted tools. \n",
    "\n",
    "For **Programming**, however, AI-assisted tools (e.g., GitHub Co-Pilot or ChatGPT) may be helpful to understand how to solve some of the questions - as one may also use Google to search for solutions online (e.g., on StackOverflow or other websites). They can, therefore, be used for the programming part of this challenge exceptionally - and only for this part - unless otherwise noted in the question. It is however your responsibility to test and make sure that the solution works - and explain this, in your own words, in the interpretation section.\n",
    "\n",
    "### Facing issues? \n",
    "\n",
    "We are constantly monitoring the issues on the GitHub to help you out. Don't hesitate to log an issue there, explaining well what the problem is, showing the code you are using, and the error message you may be receiving. \n",
    "\n",
    "**Important:** We are only monitoring the repository in weekdays, from 9.30 to 17.00. Issues logged after this time will most likely be answered the next day. This means you should not wait for our response before submitting a challenge :-)"
   ]
  },
  {
   "cell_type": "markdown",
   "id": "incoming-belly",
   "metadata": {},
   "source": [
    "## Programming\n",
    "\n",
    "Collect Twitter data using ```twarc``` if you have the developer credentials approved (see the Twitter API training details on Canvas) or request Twitter data to the lecturers (see Canvas) and use that file. Load that file using ```pandas``` and answer the following questions:\n",
    "1. How many tweets are in your dataset?\n",
    "2. What columns does the dataset contain and what is their data type?\n",
    "3. Are there any missing values?\n",
    "4. What is the lowest number, highest number, average and the standard deviation of retweets and favorites?\n",
    "5. What is the most common language of the tweets?\n",
    "6. Who are the top 5 author_ids with the most tweets on your dataset?\n",
    "7. Write a function that categorizes the tweet based on information available in one of the columns (e.g., ```lang```, ```metric_retweet_count```, ```possibly_sensitive```,  or some other column). It's up to you to define what this function should do (and explain it). One possibility is to create a function that returns 1 if the tweet belongs to a certain category, and 0 if it does not. You can be more creative than this (see Rubric on Canvas). *This week, we ask you to write the function and test if it works (following the tutorial). You will learn how to apply it to the dataframe next week.*\n",
    "\n",
    "**Note on question 7.** We do not expect you to use the ```text``` column for the function. We will learn how to categorize that column in the next tutorials. For question 7 you are **not** allowed to use AI-assisted tools.\n",
    "\n",
    "### Using MarkDown\n",
    "\n",
    "Make sure to combine code and markdown to answer these questions. Mention specifically the question (and question number) and the answer in markdown, relating to the code and the output of the code. Failing to do will impact the grade, as we will not be able to see whether you answered the question.\n",
    "\n",
    "*Wordcount: There is no maximum wordcount for this section.*\n"
   ]
  },
  {
   "cell_type": "code",
   "execution_count": null,
   "id": "italic-installation",
   "metadata": {},
   "outputs": [],
   "source": []
  },
  {
   "cell_type": "markdown",
   "id": "hollywood-presentation",
   "metadata": {},
   "source": [
    "## Intepretation"
   ]
  },
  {
   "cell_type": "markdown",
   "id": "aging-literacy",
   "metadata": {},
   "source": [
    "### Explaining your process\n",
    "\n",
    "Write a brief description explaining how you created or assembled the code (i.e., sources used, and how did you adjust the code). In this description, include a brief reflection of the main challenges you had during the process, and how you handled these challenges.\n",
    "\n",
    "*Wordcount: maximum of 250 words. Please inform the wordcount for this answer*"
   ]
  },
  {
   "cell_type": "code",
   "execution_count": null,
   "id": "prompt-dutch",
   "metadata": {},
   "outputs": [],
   "source": []
  },
  {
   "cell_type": "markdown",
   "id": "every-piece",
   "metadata": {},
   "source": [
    "### Explaining your code\n",
    "\n",
    "You used a lot of code above to answer the seven questions. Select what you consider to be the three most important steps in the code, justify why they are important, and explain the commands being used. \n",
    "\n",
    "*Note: there are different correct answers to what the three most important steps of the code are. We want to understand your reasoning/justification for this, and will accept different answers depending on the logic and clarity of your argumentation*.\n",
    "\n",
    "*Wordcount: maximum of 250 words. Please inform the wordcount for this answer*"
   ]
  },
  {
   "cell_type": "code",
   "execution_count": null,
   "id": "endless-knock",
   "metadata": {},
   "outputs": [],
   "source": []
  },
  {
   "cell_type": "markdown",
   "id": "lovely-management",
   "metadata": {},
   "source": [
    "### Quality assurance\n",
    "\n",
    "You are assembling code from different sources - some of it you learned in the tutorial, you may have reused code we provided, and in some cases you may have used different online sources. But how do you know that the code actually worked and delivered the expected results? Please explain how someone else can verify that the code worked (e.g., what should they look at) and which steps you built into the code for yourself to know that it worked (explicitly indicate at least three steps)\n",
    "\n",
    "*Wordcount: maximum of 250 words. Please inform the wordcount for this answer*"
   ]
  },
  {
   "cell_type": "code",
   "execution_count": null,
   "id": "offensive-landscape",
   "metadata": {},
   "outputs": [],
   "source": []
  },
  {
   "cell_type": "code",
   "execution_count": null,
   "id": "greek-render",
   "metadata": {},
   "outputs": [],
   "source": []
  },
  {
   "cell_type": "markdown",
   "id": "geographic-favor",
   "metadata": {},
   "source": [
    "## Reflection\n",
    "\n"
   ]
  },
  {
   "cell_type": "markdown",
   "id": "honest-newman",
   "metadata": {},
   "source": [
    "\n",
    "\n",
    "The literature you have read discusses important measurement and ethical challenges for the so-callled *algorithmically-infused societies*. \n",
    "\n",
    "Select one relevant measurement challenge from Wagner et al. (2021) and one relevant ethical challenge from Salz & Dewar (2019), and relate to the Twitter data you have just loaded and reviewed. How is the stakeholder report on your dataset and measures that you have just written (in the interpretation section) affected by these measurement and ethical challenges?\n",
    "\n",
    "*Wordcount: maximum 500 words. Please inform the wordcount in this section.*"
   ]
  },
  {
   "cell_type": "code",
   "execution_count": null,
   "id": "handy-crown",
   "metadata": {},
   "outputs": [],
   "source": []
  }
 ],
 "metadata": {
  "kernelspec": {
   "display_name": "Python 3",
   "language": "python",
   "name": "python3"
  },
  "language_info": {
   "codemirror_mode": {
    "name": "ipython",
    "version": 3
   },
   "file_extension": ".py",
   "mimetype": "text/x-python",
   "name": "python",
   "nbconvert_exporter": "python",
   "pygments_lexer": "ipython3",
   "version": "3.9.1"
  }
 },
 "nbformat": 4,
 "nbformat_minor": 5
}
